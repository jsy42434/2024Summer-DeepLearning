{
  "nbformat": 4,
  "nbformat_minor": 0,
  "metadata": {
    "colab": {
      "provenance": [],
      "authorship_tag": "ABX9TyNHCM4xgWlCnBIMWy4m/1BG",
      "include_colab_link": true
    },
    "kernelspec": {
      "name": "python3",
      "display_name": "Python 3"
    },
    "language_info": {
      "name": "python"
    }
  },
  "cells": [
    {
      "cell_type": "markdown",
      "metadata": {
        "id": "view-in-github",
        "colab_type": "text"
      },
      "source": [
        "<a href=\"https://colab.research.google.com/github/jsy42434/2024Summer-DeepLearning/blob/main/Untitled0.ipynb\" target=\"_parent\"><img src=\"https://colab.research.google.com/assets/colab-badge.svg\" alt=\"Open In Colab\"/></a>"
      ]
    },
    {
      "cell_type": "code",
      "execution_count": 1,
      "metadata": {
        "colab": {
          "base_uri": "https://localhost:8080/"
        },
        "id": "WXmlTPksHEot",
        "outputId": "645755c8-a12e-46ff-93f9-8bc526eea806"
      },
      "outputs": [
        {
          "output_type": "stream",
          "name": "stdout",
          "text": [
            "Cloning into 'data'...\n",
            "remote: Enumerating objects: 29, done.\u001b[K\n",
            "remote: Counting objects: 100% (29/29), done.\u001b[K\n",
            "remote: Compressing objects: 100% (26/26), done.\u001b[K\n",
            "remote: Total 29 (delta 6), reused 19 (delta 2), pack-reused 0\u001b[K\n",
            "Receiving objects: 100% (29/29), 467.72 KiB | 8.50 MiB/s, done.\n",
            "Resolving deltas: 100% (6/6), done.\n",
            "Epoch 1/5\n",
            "30/30 [==============================] - 1s 2ms/step - loss: 0.4336 - accuracy: 0.8447\n",
            "Epoch 2/5\n",
            "30/30 [==============================] - 0s 2ms/step - loss: 0.4197 - accuracy: 0.8489\n",
            "Epoch 3/5\n",
            "30/30 [==============================] - 0s 2ms/step - loss: 0.4117 - accuracy: 0.8511\n",
            "Epoch 4/5\n",
            "30/30 [==============================] - 0s 2ms/step - loss: 0.4137 - accuracy: 0.8511\n",
            "Epoch 5/5\n",
            "30/30 [==============================] - 0s 2ms/step - loss: 0.4149 - accuracy: 0.8511\n"
          ]
        }
      ],
      "source": [
        "from tensorflow.keras.models import Sequential\n",
        "from tensorflow.keras.layers import Dense\n",
        "import numpy as np\n",
        "\n",
        "!git clone https://github.com/taehojo/data.git\n",
        "\n",
        "Data_set = np.loadtxt(\"./data/ThoraricSurgery3.csv\",delimiter=\",\")\n",
        "X = Data_set[:,0:16]\n",
        "y = Data_set[:,16]\n",
        "\n",
        "model= Sequential()\n",
        "model.add(Dense(30, input_dim=16, activation='relu'))\n",
        "model.add(Dense(1,activation='sigmoid'))\n",
        "\n",
        "model.compile(loss='binary_crossentropy', optimizer='adam',metrics=['accuracy'])\n",
        "history = model.fit(X,y,epochs=5,batch_size=16)"
      ]
    },
    {
      "cell_type": "code",
      "source": [
        "from google.colab import drive\n",
        "drive.mount('/content/drive')"
      ],
      "metadata": {
        "id": "z_oLa6Q2StIX"
      },
      "execution_count": null,
      "outputs": []
    }
  ]
}